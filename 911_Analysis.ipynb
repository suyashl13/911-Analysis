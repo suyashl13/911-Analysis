{
 "cells": [
  {
   "cell_type": "code",
   "execution_count": 1,
   "id": "considerable-voltage",
   "metadata": {},
   "outputs": [],
   "source": [
    "# check for data file\n",
    "import os"
   ]
  },
  {
   "cell_type": "code",
   "execution_count": 2,
   "id": "provincial-visitor",
   "metadata": {},
   "outputs": [
    {
     "name": "stdout",
     "output_type": "stream",
     "text": [
      "['.ipynb_checkpoints', '911.csv', '911_Analysis.ipynb']\n"
     ]
    }
   ],
   "source": [
    "print(os.listdir())"
   ]
  },
  {
   "cell_type": "code",
   "execution_count": 3,
   "id": "oriental-reverse",
   "metadata": {},
   "outputs": [],
   "source": [
    "#  Import all major libraries\n",
    "import numpy  as np\n",
    "import pandas as pd\n",
    "import matplotlib.pyplot as plt\n",
    "import seaborn as sns"
   ]
  },
  {
   "cell_type": "code",
   "execution_count": 4,
   "id": "focal-belarus",
   "metadata": {},
   "outputs": [],
   "source": [
    "# usage of inline ploting\n",
    "%matplotlib inline"
   ]
  },
  {
   "cell_type": "code",
   "execution_count": 5,
   "id": "chicken-pregnancy",
   "metadata": {},
   "outputs": [],
   "source": [
    "dataFrame = pd.read_csv('911.csv')"
   ]
  },
  {
   "cell_type": "code",
   "execution_count": 6,
   "id": "turned-perth",
   "metadata": {},
   "outputs": [
    {
     "name": "stdout",
     "output_type": "stream",
     "text": [
      "<class 'pandas.core.frame.DataFrame'>\n",
      "RangeIndex: 289240 entries, 0 to 289239\n",
      "Data columns (total 9 columns):\n",
      " #   Column     Non-Null Count   Dtype  \n",
      "---  ------     --------------   -----  \n",
      " 0   lat        289240 non-null  float64\n",
      " 1   lng        289240 non-null  float64\n",
      " 2   desc       289240 non-null  object \n",
      " 3   zip        253942 non-null  float64\n",
      " 4   title      289240 non-null  object \n",
      " 5   timeStamp  289240 non-null  object \n",
      " 6   twp        289137 non-null  object \n",
      " 7   addr       289240 non-null  object \n",
      " 8   e          289240 non-null  int64  \n",
      "dtypes: float64(3), int64(1), object(5)\n",
      "memory usage: 19.9+ MB\n"
     ]
    }
   ],
   "source": [
    "dataFrame.info()"
   ]
  },
  {
   "cell_type": "code",
   "execution_count": 31,
   "id": "skilled-phone",
   "metadata": {},
   "outputs": [],
   "source": [
    "dataframe = dataFrame.head()"
   ]
  },
  {
   "cell_type": "code",
   "execution_count": 32,
   "id": "posted-module",
   "metadata": {},
   "outputs": [
    {
     "data": {
      "text/plain": [
       "19401.0    19821\n",
       "19464.0    19276\n",
       "19403.0    14524\n",
       "19446.0    13939\n",
       "19406.0     9601\n",
       "Name: zip, dtype: int64"
      ]
     },
     "execution_count": 32,
     "metadata": {},
     "output_type": "execute_result"
    }
   ],
   "source": [
    "# top 5 zip codes\n",
    "dataFrame['zip'].value_counts().head(5)"
   ]
  },
  {
   "cell_type": "code",
   "execution_count": 33,
   "id": "forty-projection",
   "metadata": {},
   "outputs": [
    {
     "data": {
      "text/plain": [
       "LOWER MERION    24826\n",
       "ABINGTON        17820\n",
       "NORRISTOWN      16546\n",
       "UPPER MERION    15288\n",
       "CHELTENHAM      13359\n",
       "Name: twp, dtype: int64"
      ]
     },
     "execution_count": 33,
     "metadata": {},
     "output_type": "execute_result"
    }
   ],
   "source": [
    "dataFrame['twp'].value_counts().head(5)"
   ]
  },
  {
   "cell_type": "code",
   "execution_count": 34,
   "id": "closing-floating",
   "metadata": {},
   "outputs": [
    {
     "data": {
      "text/plain": [
       "131"
      ]
     },
     "execution_count": 34,
     "metadata": {},
     "output_type": "execute_result"
    }
   ],
   "source": [
    "dataFrame['title'].nunique()"
   ]
  },
  {
   "cell_type": "code",
   "execution_count": 46,
   "id": "developing-integral",
   "metadata": {},
   "outputs": [],
   "source": [
    "# Top five spefic reasons to call 911\n",
    "dataFrame['speficReason'] = dataFrame['title'].apply(lambda title : title.split(':')[0])"
   ]
  },
  {
   "cell_type": "code",
   "execution_count": 47,
   "id": "existing-poison",
   "metadata": {},
   "outputs": [
    {
     "data": {
      "text/plain": [
       "EMS        144362\n",
       "Traffic    101889\n",
       "Fire        42989\n",
       "Name: speficReason, dtype: int64"
      ]
     },
     "execution_count": 47,
     "metadata": {},
     "output_type": "execute_result"
    }
   ],
   "source": [
    "dataFrame['speficReason'].value_counts().head()"
   ]
  },
  {
   "cell_type": "code",
   "execution_count": 48,
   "id": "rational-assist",
   "metadata": {},
   "outputs": [
    {
     "data": {
      "text/plain": [
       "<AxesSubplot:xlabel='speficReason', ylabel='count'>"
      ]
     },
     "execution_count": 48,
     "metadata": {},
     "output_type": "execute_result"
    },
    {
     "data": {
      "image/png": "[encoded data removed]",
      "text/plain": [
       "<Figure size 432x288 with 1 Axes>"
      ]
     },
     "metadata": {
      "needs_background": "light"
     },
     "output_type": "display_data"
    }
   ],
   "source": [
    "df = dataFrame.head()\n",
    "sns.countplot(x='speficReason', data=df)"
   ]
  },
  {
   "cell_type": "code",
   "execution_count": 49,
   "id": "amended-rebate",
   "metadata": {},
   "outputs": [],
   "source": [
    "dataFrame['timeStamp'] = pd.to_datetime(dataFrame['timeStamp'])"
   ]
  },
  {
   "cell_type": "code",
   "execution_count": 50,
   "id": "helpful-holmes",
   "metadata": {},
   "outputs": [
    {
     "name": "stdout",
     "output_type": "stream",
     "text": [
      "<class 'pandas.core.frame.DataFrame'>\n",
      "RangeIndex: 289240 entries, 0 to 289239\n",
      "Data columns (total 13 columns):\n",
      " #   Column        Non-Null Count   Dtype         \n",
      "---  ------        --------------   -----         \n",
      " 0   lat           289240 non-null  float64       \n",
      " 1   lng           289240 non-null  float64       \n",
      " 2   desc          289240 non-null  object        \n",
      " 3   zip           253942 non-null  float64       \n",
      " 4   title         289240 non-null  object        \n",
      " 5   timeStamp     289240 non-null  datetime64[ns]\n",
      " 6   twp           289137 non-null  object        \n",
      " 7   addr          289240 non-null  object        \n",
      " 8   e             289240 non-null  int64         \n",
      " 9   speficReason  289240 non-null  object        \n",
      " 10  Hours         289240 non-null  int64         \n",
      " 11  Months        289240 non-null  int64         \n",
      " 12  Day           289240 non-null  int64         \n",
      "dtypes: datetime64[ns](1), float64(3), int64(4), object(5)\n",
      "memory usage: 28.7+ MB\n"
     ]
    }
   ],
   "source": [
    "dataFrame.info()"
   ]
  },
  {
   "cell_type": "code",
   "execution_count": 51,
   "id": "crazy-aging",
   "metadata": {},
   "outputs": [],
   "source": [
    "# create columns for Hour, Months, and day of week. "
   ]
  },
  {
   "cell_type": "code",
   "execution_count": 52,
   "id": "surprised-roads",
   "metadata": {},
   "outputs": [],
   "source": [
    "dataFrame['Hours'] = dataFrame['timeStamp'].apply(lambda time: time.hour)"
   ]
  },
  {
   "cell_type": "code",
   "execution_count": null,
   "id": "detected-expression",
   "metadata": {
    "scrolled": true
   },
   "outputs": [],
   "source": []
  },
  {
   "cell_type": "code",
   "execution_count": 53,
   "id": "boolean-dating",
   "metadata": {},
   "outputs": [],
   "source": [
    "dataFrame['Months'] = dataFrame['timeStamp'].apply(lambda time: time.month)\n",
    "dataFrame['Day'] = dataFrame['timeStamp'].apply(lambda time: time.dayofweek)"
   ]
  },
  {
   "cell_type": "code",
   "execution_count": 54,
   "id": "private-canberra",
   "metadata": {},
   "outputs": [
    {
     "data": {
      "text/plain": [
       "24"
      ]
     },
     "execution_count": 54,
     "metadata": {},
     "output_type": "execute_result"
    }
   ],
   "source": [
    "dataFrame['Hours'].nunique()"
   ]
  },
  {
   "cell_type": "code",
   "execution_count": 55,
   "id": "confident-seeking",
   "metadata": {},
   "outputs": [
    {
     "data": {
      "text/plain": [
       "<AxesSubplot:xlabel='Months', ylabel='count'>"
      ]
     },
     "execution_count": 55,
     "metadata": {},
     "output_type": "execute_result"
    },
    {
     "data": {
      "image/png": "[encoded data removed]",
      "text/plain": [
       "<Figure size 432x288 with 1 Axes>"
      ]
     },
     "metadata": {
      "needs_background": "light"
     },
     "output_type": "display_data"
    }
   ],
   "source": [
    "sns.countplot(x='Months', data=dataFrame,hue='speficReason')"
   ]
  },
  {
   "cell_type": "code",
   "execution_count": 59,
   "id": "understood-sally",
   "metadata": {},
   "outputs": [],
   "source": [
    "# use groupby\n",
    "byMonth = dataFrame.groupby('Day').count()"
   ]
  },
  {
   "cell_type": "code",
   "execution_count": 60,
   "id": "liberal-circle",
   "metadata": {},
   "outputs": [
    {
     "data": {
      "text/html": [
       "<div>\n",
       "<style scoped>\n",
       "    .dataframe tbody tr th:only-of-type {\n",
       "        vertical-align: middle;\n",
       "    }\n",
       "\n",
       "    .dataframe tbody tr th {\n",
       "        vertical-align: top;\n",
       "    }\n",
       "\n",
       "    .dataframe thead th {\n",
       "        text-align: right;\n",
       "    }\n",
       "</style>\n",
       "<table border=\"1\" class=\"dataframe\">\n",
       "  <thead>\n",
       "    <tr style=\"text-align: right;\">\n",
       "      <th></th>\n",
       "      <th>lat</th>\n",
       "      <th>lng</th>\n",
       "      <th>desc</th>\n",
       "      <th>zip</th>\n",
       "      <th>title</th>\n",
       "      <th>timeStamp</th>\n",
       "      <th>twp</th>\n",
       "      <th>addr</th>\n",
       "      <th>e</th>\n",
       "      <th>speficReason</th>\n",
       "      <th>Hours</th>\n",
       "      <th>Months</th>\n",
       "    </tr>\n",
       "    <tr>\n",
       "      <th>Day</th>\n",
       "      <th></th>\n",
       "      <th></th>\n",
       "      <th></th>\n",
       "      <th></th>\n",
       "      <th></th>\n",
       "      <th></th>\n",
       "      <th></th>\n",
       "      <th></th>\n",
       "      <th></th>\n",
       "      <th></th>\n",
       "      <th></th>\n",
       "      <th></th>\n",
       "    </tr>\n",
       "  </thead>\n",
       "  <tbody>\n",
       "    <tr>\n",
       "      <th>0</th>\n",
       "      <td>42092</td>\n",
       "      <td>42092</td>\n",
       "      <td>42092</td>\n",
       "      <td>37030</td>\n",
       "      <td>42092</td>\n",
       "      <td>42092</td>\n",
       "      <td>42081</td>\n",
       "      <td>42092</td>\n",
       "      <td>42092</td>\n",
       "      <td>42092</td>\n",
       "      <td>42092</td>\n",
       "      <td>42092</td>\n",
       "    </tr>\n",
       "    <tr>\n",
       "      <th>1</th>\n",
       "      <td>43744</td>\n",
       "      <td>43744</td>\n",
       "      <td>43744</td>\n",
       "      <td>38385</td>\n",
       "      <td>43744</td>\n",
       "      <td>43744</td>\n",
       "      <td>43731</td>\n",
       "      <td>43744</td>\n",
       "      <td>43744</td>\n",
       "      <td>43744</td>\n",
       "      <td>43744</td>\n",
       "      <td>43744</td>\n",
       "    </tr>\n",
       "    <tr>\n",
       "      <th>2</th>\n",
       "      <td>43442</td>\n",
       "      <td>43442</td>\n",
       "      <td>43442</td>\n",
       "      <td>38327</td>\n",
       "      <td>43442</td>\n",
       "      <td>43442</td>\n",
       "      <td>43422</td>\n",
       "      <td>43442</td>\n",
       "      <td>43442</td>\n",
       "      <td>43442</td>\n",
       "      <td>43442</td>\n",
       "      <td>43442</td>\n",
       "    </tr>\n",
       "    <tr>\n",
       "      <th>3</th>\n",
       "      <td>42784</td>\n",
       "      <td>42784</td>\n",
       "      <td>42784</td>\n",
       "      <td>37616</td>\n",
       "      <td>42784</td>\n",
       "      <td>42784</td>\n",
       "      <td>42770</td>\n",
       "      <td>42784</td>\n",
       "      <td>42784</td>\n",
       "      <td>42784</td>\n",
       "      <td>42784</td>\n",
       "      <td>42784</td>\n",
       "    </tr>\n",
       "    <tr>\n",
       "      <th>4</th>\n",
       "      <td>44468</td>\n",
       "      <td>44468</td>\n",
       "      <td>44468</td>\n",
       "      <td>38923</td>\n",
       "      <td>44468</td>\n",
       "      <td>44468</td>\n",
       "      <td>44450</td>\n",
       "      <td>44468</td>\n",
       "      <td>44468</td>\n",
       "      <td>44468</td>\n",
       "      <td>44468</td>\n",
       "      <td>44468</td>\n",
       "    </tr>\n",
       "  </tbody>\n",
       "</table>\n",
       "</div>"
      ],
      "text/plain": [
       "       lat    lng   desc    zip  title  timeStamp    twp   addr      e  \\\n",
       "Day                                                                      \n",
       "0    42092  42092  42092  37030  42092      42092  42081  42092  42092   \n",
       "1    43744  43744  43744  38385  43744      43744  43731  43744  43744   \n",
       "2    43442  43442  43442  38327  43442      43442  43422  43442  43442   \n",
       "3    42784  42784  42784  37616  42784      42784  42770  42784  42784   \n",
       "4    44468  44468  44468  38923  44468      44468  44450  44468  44468   \n",
       "\n",
       "     speficReason  Hours  Months  \n",
       "Day                               \n",
       "0           42092  42092   42092  \n",
       "1           43744  43744   43744  \n",
       "2           43442  43442   43442  \n",
       "3           42784  42784   42784  \n",
       "4           44468  44468   44468  "
      ]
     },
     "execution_count": 60,
     "metadata": {},
     "output_type": "execute_result"
    }
   ],
   "source": [
    "byMonth.head()"
   ]
  },
  {
   "cell_type": "code",
   "execution_count": 61,
   "id": "announced-construction",
   "metadata": {},
   "outputs": [
    {
     "data": {
      "text/plain": [
       "<AxesSubplot:xlabel='Day'>"
      ]
     },
     "execution_count": 61,
     "metadata": {},
     "output_type": "execute_result"
    },
    {
     "data": {
      "image/png": "[encoded data removed]",
      "text/plain": [
       "<Figure size 432x288 with 1 Axes>"
      ]
     },
     "metadata": {
      "needs_background": "light"
     },
     "output_type": "display_data"
    }
   ],
   "source": [
    "byMonth['twp'].plot()"
   ]
  },
  {
   "cell_type": "code",
   "execution_count": null,
   "id": "freelance-birth",
   "metadata": {},
   "outputs": [],
   "source": []
  }
 ],
 "metadata": {
  "kernelspec": {
   "display_name": "Python 3",
   "language": "python",
   "name": "python3"
  },
  "language_info": {
   "codemirror_mode": {
    "name": "ipython",
    "version": 3
   },
   "file_extension": ".py",
   "mimetype": "text/x-python",
   "name": "python",
   "nbconvert_exporter": "python",
   "pygments_lexer": "ipython3",
   "version": "3.8.8"
  }
 },
 "nbformat": 4,
 "nbformat_minor": 5
}
